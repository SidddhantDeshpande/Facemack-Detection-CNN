{
 "cells": [
  {
   "cell_type": "code",
   "execution_count": 90,
   "metadata": {},
   "outputs": [],
   "source": [
    "import cv2\n",
    "import numpy as np\n",
    "import pickle\n",
    "from sklearn.model_selection import train_test_split\n",
    "from sklearn.svm import SVC\n",
    "from sklearn.metrics import accuracy_score\n",
    "import matplotlib.pyplot as plt"
   ]
  },
  {
   "cell_type": "code",
   "execution_count": 91,
   "metadata": {},
   "outputs": [],
   "source": [
    "without_mask = np.load('./without_mask500_new.npy')\n",
    "with_mask = np.load('./without_mask500_new.npy')\n"
   ]
  },
  {
   "cell_type": "code",
   "execution_count": 92,
   "metadata": {},
   "outputs": [
    {
     "data": {
      "text/plain": [
       "(500, 50, 50, 3)"
      ]
     },
     "execution_count": 92,
     "metadata": {},
     "output_type": "execute_result"
    }
   ],
   "source": [
    "without_mask.shape\n"
   ]
  },
  {
   "cell_type": "code",
   "execution_count": 93,
   "metadata": {},
   "outputs": [
    {
     "data": {
      "text/plain": [
       "(500, 50, 50, 3)"
      ]
     },
     "execution_count": 93,
     "metadata": {},
     "output_type": "execute_result"
    }
   ],
   "source": [
    "with_mask.shape"
   ]
  },
  {
   "cell_type": "code",
   "execution_count": null,
   "metadata": {},
   "outputs": [],
   "source": []
  },
  {
   "cell_type": "code",
   "execution_count": 94,
   "metadata": {},
   "outputs": [],
   "source": [
    "\n",
    "without_mask = without_mask.reshape(500,50 * 50 * 3)\n",
    "with_mask =with_mask.reshape(500,50*50*3)\n"
   ]
  },
  {
   "cell_type": "code",
   "execution_count": 95,
   "metadata": {},
   "outputs": [],
   "source": [
    "#X = np.r_[without_mask,n95,Surgical,Cloth]\n",
    "X = np.r_[without_mask,with_mask]"
   ]
  },
  {
   "cell_type": "code",
   "execution_count": 96,
   "metadata": {},
   "outputs": [],
   "source": [
    "label = np.zeros(X.shape[0])"
   ]
  },
  {
   "cell_type": "code",
   "execution_count": 97,
   "metadata": {},
   "outputs": [
    {
     "data": {
      "text/plain": [
       "(1000, 7500)"
      ]
     },
     "execution_count": 97,
     "metadata": {},
     "output_type": "execute_result"
    }
   ],
   "source": [
    "X.shape"
   ]
  },
  {
   "cell_type": "code",
   "execution_count": 98,
   "metadata": {},
   "outputs": [],
   "source": [
    "label[500:999] = 1.0\n",
    "label[1000:1499] = 2.0\n",
    "#label[1500:2000] = 3.0"
   ]
  },
  {
   "cell_type": "code",
   "execution_count": 99,
   "metadata": {},
   "outputs": [],
   "source": [
    "x_train, x_test ,y_train, y_test = train_test_split(X,label,test_size=0.25)"
   ]
  },
  {
   "cell_type": "code",
   "execution_count": 100,
   "metadata": {},
   "outputs": [
    {
     "data": {
      "text/plain": [
       "array([255,   0, 255, ..., 245,  24, 246], dtype=uint8)"
      ]
     },
     "execution_count": 100,
     "metadata": {},
     "output_type": "execute_result"
    }
   ],
   "source": [
    "x_train[0]"
   ]
  },
  {
   "cell_type": "code",
   "execution_count": 101,
   "metadata": {},
   "outputs": [
    {
     "data": {
      "text/plain": [
       "(750, 7500)"
      ]
     },
     "execution_count": 101,
     "metadata": {},
     "output_type": "execute_result"
    }
   ],
   "source": [
    "x_train.shape"
   ]
  },
  {
   "cell_type": "code",
   "execution_count": 102,
   "metadata": {},
   "outputs": [
    {
     "data": {
      "text/plain": [
       "(250, 7500)"
      ]
     },
     "execution_count": 102,
     "metadata": {},
     "output_type": "execute_result"
    }
   ],
   "source": [
    "x_test.shape"
   ]
  },
  {
   "cell_type": "code",
   "execution_count": 103,
   "metadata": {},
   "outputs": [],
   "source": [
    "from sklearn.decomposition import PCA\n",
    "pca = PCA(n_components=1)\n",
    "x_train = pca.fit_transform(x_train)"
   ]
  },
  {
   "cell_type": "code",
   "execution_count": 104,
   "metadata": {},
   "outputs": [],
   "source": [
    "#x_train, x_test ,y_train, y_test = train_test_split(X,label,test_size=0.40)"
   ]
  },
  {
   "cell_type": "code",
   "execution_count": 105,
   "metadata": {},
   "outputs": [],
   "source": [
    "# x_train, x_test ,y_train, y_test = train_test_split(X,label,test_size=0.40)\n",
    "# x_train = pca.fit_transform(x_train)"
   ]
  },
  {
   "cell_type": "code",
   "execution_count": 106,
   "metadata": {},
   "outputs": [],
   "source": [
    "# svm = SVC()\n",
    "# svm.fit(x_train,y_train)\n",
    "from sklearn import svm\n",
    "svm = svm.SVC().fit(x_train,y_train)"
   ]
  },
  {
   "cell_type": "code",
   "execution_count": 107,
   "metadata": {},
   "outputs": [],
   "source": [
    "x_test = pca.transform(x_test)\n",
    "y_pred = svm.predict(x_test)"
   ]
  },
  {
   "cell_type": "code",
   "execution_count": 108,
   "metadata": {},
   "outputs": [
    {
     "data": {
      "text/plain": [
       "0.46"
      ]
     },
     "execution_count": 108,
     "metadata": {},
     "output_type": "execute_result"
    }
   ],
   "source": [
    "accuracy_score(y_test , y_pred)\n"
   ]
  },
  {
   "cell_type": "code",
   "execution_count": 109,
   "metadata": {},
   "outputs": [
    {
     "name": "stdout",
     "output_type": "stream",
     "text": [
      "Confusion Matrix:\n",
      "[[  0 135]\n",
      " [  0 115]]\n",
      "Classification Report:\n",
      "              precision    recall  f1-score   support\n",
      "\n",
      "         0.0       0.00      0.00      0.00       135\n",
      "         1.0       0.46      1.00      0.63       115\n",
      "\n",
      "    accuracy                           0.46       250\n",
      "   macro avg       0.23      0.50      0.32       250\n",
      "weighted avg       0.21      0.46      0.29       250\n",
      "\n",
      "Accuracy: 0.46\n"
     ]
    },
    {
     "name": "stderr",
     "output_type": "stream",
     "text": [
      "D:\\anaconda\\lib\\site-packages\\sklearn\\metrics\\_classification.py:1221: UndefinedMetricWarning: Precision and F-score are ill-defined and being set to 0.0 in labels with no predicted samples. Use `zero_division` parameter to control this behavior.\n",
      "  _warn_prf(average, modifier, msg_start, len(result))\n"
     ]
    }
   ],
   "source": [
    "from sklearn.metrics import classification_report, confusion_matrix, accuracy_score\n",
    "result = confusion_matrix(y_test, y_pred)\n",
    "print(\"Confusion Matrix:\")\n",
    "print(result)\n",
    "result1 = classification_report(y_test, y_pred)\n",
    "print(\"Classification Report:\",)\n",
    "print (result1)\n",
    "result2 = accuracy_score(y_test,y_pred)\n",
    "print(\"Accuracy:\",result2)"
   ]
  },
  {
   "cell_type": "code",
   "execution_count": 110,
   "metadata": {},
   "outputs": [],
   "source": [
    "names = {0:'No Mask',1:'Mask'}"
   ]
  },
  {
   "cell_type": "code",
   "execution_count": 111,
   "metadata": {},
   "outputs": [
    {
     "name": "stdout",
     "output_type": "stream",
     "text": [
      "Mask\n",
      "1.0\n",
      "Mask\n",
      "1.0\n",
      "Mask\n",
      "1.0\n",
      "Mask\n",
      "1.0\n",
      "Mask\n",
      "1.0\n",
      "Mask\n",
      "1.0\n",
      "Mask\n",
      "1.0\n",
      "Mask\n",
      "1.0\n",
      "Mask\n",
      "1.0\n",
      "Mask\n",
      "1.0\n",
      "Mask\n",
      "1.0\n",
      "Mask\n",
      "1.0\n",
      "Mask\n",
      "1.0\n",
      "Mask\n",
      "1.0\n",
      "Mask\n",
      "1.0\n",
      "Mask\n",
      "1.0\n",
      "Mask\n",
      "1.0\n",
      "Mask\n",
      "1.0\n",
      "Mask\n",
      "1.0\n",
      "Mask\n",
      "1.0\n",
      "Mask\n",
      "1.0\n",
      "Mask\n",
      "1.0\n",
      "Mask\n",
      "1.0\n",
      "Mask\n",
      "1.0\n",
      "Mask\n",
      "1.0\n",
      "Mask\n",
      "1.0\n",
      "Mask\n",
      "1.0\n",
      "Mask\n",
      "1.0\n",
      "Mask\n",
      "1.0\n",
      "Mask\n",
      "1.0\n",
      "Mask\n",
      "1.0\n",
      "Mask\n",
      "1.0\n",
      "Mask\n",
      "1.0\n",
      "Mask\n",
      "1.0\n",
      "Mask\n",
      "1.0\n",
      "Mask\n",
      "1.0\n",
      "Mask\n",
      "1.0\n",
      "Mask\n",
      "1.0\n",
      "Mask\n",
      "1.0\n",
      "Mask\n",
      "1.0\n",
      "Mask\n",
      "1.0\n",
      "Mask\n",
      "1.0\n",
      "Mask\n",
      "1.0\n",
      "Mask\n",
      "1.0\n",
      "Mask\n",
      "1.0\n",
      "Mask\n",
      "1.0\n",
      "Mask\n",
      "1.0\n",
      "Mask\n",
      "1.0\n",
      "Mask\n",
      "1.0\n",
      "Mask\n",
      "1.0\n",
      "Mask\n",
      "1.0\n",
      "Mask\n",
      "1.0\n",
      "Mask\n",
      "1.0\n",
      "Mask\n",
      "1.0\n",
      "Mask\n",
      "1.0\n",
      "Mask\n",
      "1.0\n",
      "Mask\n",
      "1.0\n",
      "Mask\n",
      "1.0\n",
      "Mask\n",
      "1.0\n",
      "Mask\n",
      "1.0\n",
      "Mask\n",
      "1.0\n",
      "Mask\n",
      "1.0\n",
      "Mask\n",
      "1.0\n",
      "Mask\n",
      "1.0\n",
      "Mask\n",
      "1.0\n",
      "Mask\n",
      "1.0\n",
      "Mask\n",
      "1.0\n",
      "Mask\n",
      "1.0\n",
      "Mask\n",
      "1.0\n",
      "Mask\n",
      "1.0\n",
      "Mask\n",
      "1.0\n",
      "Mask\n",
      "1.0\n",
      "Mask\n",
      "1.0\n",
      "Mask\n",
      "1.0\n",
      "Mask\n",
      "1.0\n",
      "Mask\n",
      "1.0\n",
      "Mask\n",
      "1.0\n",
      "Mask\n",
      "1.0\n",
      "Mask\n",
      "1.0\n",
      "Mask\n",
      "1.0\n",
      "Mask\n",
      "1.0\n",
      "Mask\n",
      "1.0\n",
      "Mask\n",
      "1.0\n",
      "Mask\n",
      "1.0\n",
      "Mask\n",
      "1.0\n",
      "Mask\n",
      "1.0\n",
      "Mask\n",
      "1.0\n",
      "Mask\n",
      "1.0\n",
      "Mask\n",
      "1.0\n",
      "Mask\n",
      "1.0\n",
      "Mask\n",
      "1.0\n",
      "Mask\n",
      "1.0\n",
      "Mask\n",
      "1.0\n",
      "Mask\n",
      "1.0\n",
      "Mask\n",
      "1.0\n",
      "Mask\n",
      "1.0\n",
      "Mask\n",
      "1.0\n",
      "Mask\n",
      "1.0\n",
      "Mask\n",
      "1.0\n",
      "Mask\n",
      "1.0\n",
      "Mask\n",
      "1.0\n",
      "Mask\n",
      "1.0\n",
      "Mask\n",
      "1.0\n",
      "Mask\n",
      "1.0\n",
      "Mask\n",
      "1.0\n",
      "Mask\n",
      "1.0\n",
      "Mask\n",
      "1.0\n",
      "Mask\n",
      "1.0\n",
      "Mask\n",
      "1.0\n",
      "Mask\n",
      "1.0\n",
      "Mask\n",
      "1.0\n",
      "Mask\n",
      "1.0\n",
      "Mask\n",
      "1.0\n",
      "Mask\n",
      "1.0\n",
      "Mask\n",
      "1.0\n",
      "Mask\n",
      "1.0\n",
      "Mask\n",
      "1.0\n",
      "Mask\n",
      "1.0\n",
      "Mask\n",
      "1.0\n",
      "Mask\n",
      "1.0\n",
      "Mask\n",
      "1.0\n",
      "Mask\n",
      "1.0\n",
      "Mask\n",
      "1.0\n",
      "Mask\n",
      "1.0\n",
      "Mask\n",
      "1.0\n",
      "Mask\n",
      "1.0\n",
      "Mask\n",
      "1.0\n",
      "Mask\n",
      "1.0\n",
      "Mask\n",
      "1.0\n",
      "Mask\n",
      "1.0\n",
      "Mask\n",
      "1.0\n",
      "Mask\n",
      "1.0\n",
      "Mask\n",
      "1.0\n",
      "Mask\n",
      "1.0\n",
      "Mask\n",
      "1.0\n",
      "Mask\n",
      "1.0\n",
      "Mask\n",
      "1.0\n",
      "Mask\n",
      "1.0\n",
      "Mask\n",
      "1.0\n",
      "Mask\n",
      "1.0\n",
      "Mask\n",
      "1.0\n",
      "Mask\n",
      "1.0\n",
      "Mask\n",
      "1.0\n",
      "Mask\n",
      "1.0\n",
      "Mask\n",
      "1.0\n",
      "Mask\n",
      "1.0\n",
      "Mask\n",
      "1.0\n",
      "Mask\n",
      "1.0\n",
      "Mask\n",
      "1.0\n",
      "Mask\n",
      "1.0\n",
      "Mask\n",
      "1.0\n",
      "Mask\n",
      "1.0\n",
      "Mask\n",
      "1.0\n",
      "Mask\n",
      "1.0\n",
      "Mask\n",
      "1.0\n",
      "Mask\n",
      "1.0\n",
      "Mask\n",
      "1.0\n",
      "Mask\n",
      "1.0\n",
      "Mask\n",
      "1.0\n",
      "Mask\n",
      "1.0\n",
      "Mask\n",
      "1.0\n",
      "Mask\n",
      "1.0\n",
      "Mask\n",
      "1.0\n",
      "Mask\n",
      "1.0\n",
      "Mask\n",
      "1.0\n",
      "Mask\n",
      "1.0\n",
      "Mask\n",
      "1.0\n",
      "Mask\n",
      "1.0\n",
      "Mask\n",
      "1.0\n",
      "Mask\n",
      "1.0\n",
      "Mask\n",
      "1.0\n",
      "Mask\n",
      "1.0\n",
      "Mask\n",
      "1.0\n",
      "Mask\n",
      "1.0\n",
      "Mask\n",
      "1.0\n",
      "Mask\n",
      "1.0\n",
      "Mask\n",
      "1.0\n",
      "Mask\n",
      "1.0\n",
      "Mask\n",
      "1.0\n",
      "Mask\n",
      "1.0\n",
      "Mask\n",
      "1.0\n",
      "Mask\n",
      "1.0\n",
      "Mask\n",
      "1.0\n",
      "Mask\n",
      "1.0\n",
      "Mask\n",
      "1.0\n",
      "Mask\n",
      "1.0\n",
      "Mask\n",
      "1.0\n",
      "Mask\n",
      "1.0\n",
      "Mask\n",
      "1.0\n",
      "Mask\n",
      "1.0\n",
      "Mask\n",
      "1.0\n",
      "Mask\n",
      "1.0\n",
      "Mask\n",
      "1.0\n",
      "Mask\n",
      "1.0\n",
      "Mask\n",
      "1.0\n",
      "Mask\n",
      "1.0\n",
      "Mask\n",
      "1.0\n",
      "Mask\n",
      "1.0\n",
      "Mask\n",
      "1.0\n",
      "Mask\n",
      "1.0\n",
      "Mask\n",
      "1.0\n",
      "Mask\n",
      "1.0\n",
      "Mask\n",
      "1.0\n",
      "Mask\n",
      "1.0\n",
      "Mask\n",
      "1.0\n",
      "Mask\n",
      "1.0\n",
      "Mask\n",
      "1.0\n",
      "Mask\n",
      "1.0\n",
      "Mask\n",
      "1.0\n",
      "Mask\n",
      "1.0\n",
      "Mask\n",
      "1.0\n",
      "Mask\n",
      "1.0\n",
      "Mask\n",
      "1.0\n",
      "Mask\n",
      "1.0\n",
      "Mask\n",
      "1.0\n",
      "Mask\n",
      "1.0\n",
      "Mask\n",
      "1.0\n",
      "Mask\n",
      "1.0\n",
      "Mask\n",
      "1.0\n",
      "Mask\n",
      "1.0\n",
      "Mask\n",
      "1.0\n",
      "Mask\n",
      "1.0\n",
      "Mask\n",
      "1.0\n",
      "Mask\n",
      "1.0\n",
      "Mask\n",
      "1.0\n",
      "Mask\n",
      "1.0\n",
      "Mask\n",
      "1.0\n",
      "Mask\n",
      "1.0\n",
      "Mask\n",
      "1.0\n",
      "Mask\n",
      "1.0\n",
      "Mask\n",
      "1.0\n",
      "Mask\n",
      "1.0\n",
      "Mask\n",
      "1.0\n",
      "Mask\n",
      "1.0\n",
      "Mask\n",
      "1.0\n",
      "Mask\n",
      "1.0\n",
      "Mask\n",
      "1.0\n",
      "Mask\n",
      "1.0\n",
      "Mask\n",
      "1.0\n",
      "Mask\n",
      "1.0\n",
      "Mask\n",
      "1.0\n",
      "Mask\n",
      "1.0\n",
      "Mask\n",
      "1.0\n",
      "Mask\n",
      "1.0\n",
      "Mask\n",
      "1.0\n",
      "Mask\n",
      "1.0\n",
      "Mask\n",
      "1.0\n",
      "Mask\n",
      "1.0\n",
      "Mask\n",
      "1.0\n",
      "Mask\n",
      "1.0\n",
      "Mask\n",
      "1.0\n",
      "Mask\n",
      "1.0\n",
      "Mask\n",
      "1.0\n",
      "Mask\n",
      "1.0\n",
      "Mask\n",
      "1.0\n",
      "Mask\n",
      "1.0\n",
      "Mask\n",
      "1.0\n",
      "Mask\n",
      "1.0\n",
      "Mask\n",
      "1.0\n",
      "Mask\n",
      "1.0\n",
      "Mask\n",
      "1.0\n",
      "Mask\n",
      "1.0\n",
      "Mask\n",
      "1.0\n",
      "Mask\n",
      "1.0\n",
      "Mask\n",
      "1.0\n",
      "Mask\n",
      "1.0\n",
      "Mask\n",
      "1.0\n",
      "Mask\n",
      "1.0\n"
     ]
    }
   ],
   "source": [
    "haar_data = cv2.CascadeClassifier('data.xml')\n",
    "capture = cv2.VideoCapture(0)\n",
    "data = []\n",
    "font = cv2.FONT_HERSHEY_COMPLEX\n",
    "while True:\n",
    "    flag,img = capture.read()\n",
    "    if flag:\n",
    "        faces = haar_data.detectMultiScale(img)\n",
    "        for x,y,w,h in faces:\n",
    "            cv2.rectangle(img,(x,y),(x+w,y+h),(255,0,255),4)\n",
    "            face = img[y:y+h,x:x+w,:]\n",
    "            face = cv2.resize(face,(50,50))\n",
    "            face = face.reshape(1,-1)\n",
    "            face = pca.transform(face)\n",
    "            pred = svm.predict(face)[0]\n",
    "            \n",
    "            n = names[int(pred)]\n",
    "            if pred==0:\n",
    "                cv2.rectangle(img,(x,y),(x+w,y+h),(0,0,255),4)\n",
    "            if pred==1:\n",
    "                cv2.rectangle(img,(x,y),(x+w,y+h),(0,255,0),4)\n",
    "            if pred==2:\n",
    "                cv2.rectangle(img,(x,y),(x+w,y+h),(255,0,0),4)\n",
    "            cv2.putText(img,n,(x,y),font,1,(244,250,250),2)\n",
    "            print(n)\n",
    "            print(pred)\n",
    "        cv2.imshow('result',img)\n",
    "        if cv2.waitKey(2) == 27 :\n",
    "            break\n",
    "capture.release()\n",
    "cv2.destroyAllWindows()"
   ]
  },
  {
   "cell_type": "code",
   "execution_count": null,
   "metadata": {},
   "outputs": [],
   "source": [
    "import pickle\n",
    "filename = './finalized_model_muti.sav'\n",
    "pickle.dump(svm, open(filename, 'wb'))"
   ]
  },
  {
   "cell_type": "code",
   "execution_count": null,
   "metadata": {},
   "outputs": [],
   "source": [
    "from keras.preprocessing import image\n",
    "#test_image = cv2.imread('masktest.jpg')\n",
    "test_image = cv2.imread('n95.jpg')\n",
    "#test_image = cv2.imread('no_mask.jpg')"
   ]
  },
  {
   "cell_type": "code",
   "execution_count": null,
   "metadata": {},
   "outputs": [],
   "source": [
    "plt.imshow(test_image)"
   ]
  },
  {
   "cell_type": "code",
   "execution_count": null,
   "metadata": {},
   "outputs": [],
   "source": [
    "face = haar_data.detectMultiScale(test_image)\n",
    "cv2.rectangle(test_image,(x,y),(x+w,y+h),(255,0,255),4)\n",
    "face = test_image[y:y+h,x:x+w,:]\n",
    "face = cv2.resize(face,(50,50))\n",
    "face = face.reshape(1,-1)\n",
    "face = pca.transform(face)\n",
    "cv2.imshow\n",
    "pred = svm.predict(face)[0]\n",
    "n = names[int(pred)]\n",
    "\n",
    "n"
   ]
  },
  {
   "cell_type": "code",
   "execution_count": null,
   "metadata": {},
   "outputs": [],
   "source": [
    "test_image = cv2.imread('s.jpg')\n",
    "plt.imshow(test_image)"
   ]
  },
  {
   "cell_type": "code",
   "execution_count": 28,
   "metadata": {},
   "outputs": [
    {
     "data": {
      "text/plain": [
       "'Surgical Mask'"
      ]
     },
     "execution_count": 28,
     "metadata": {},
     "output_type": "execute_result"
    }
   ],
   "source": [
    "face = haar_data.detectMultiScale(test_image)\n",
    "cv2.rectangle(test_image,(x,y),(x+w,y+h),(255,0,255),4)\n",
    "face = test_image[y:y+h,x:x+w,:]\n",
    "face = cv2.resize(face,(50,50))\n",
    "face = face.reshape(1,-1)\n",
    "face = pca.transform(face)\n",
    "pred = svm.predict(face)[0]\n",
    "pred\n",
    "n = names[int(pred)]\n",
    "n"
   ]
  },
  {
   "cell_type": "code",
   "execution_count": null,
   "metadata": {},
   "outputs": [],
   "source": []
  },
  {
   "cell_type": "code",
   "execution_count": null,
   "metadata": {},
   "outputs": [],
   "source": []
  },
  {
   "cell_type": "code",
   "execution_count": null,
   "metadata": {},
   "outputs": [],
   "source": []
  },
  {
   "cell_type": "code",
   "execution_count": null,
   "metadata": {},
   "outputs": [],
   "source": []
  },
  {
   "cell_type": "code",
   "execution_count": null,
   "metadata": {},
   "outputs": [],
   "source": []
  },
  {
   "cell_type": "code",
   "execution_count": null,
   "metadata": {},
   "outputs": [],
   "source": []
  },
  {
   "cell_type": "code",
   "execution_count": null,
   "metadata": {},
   "outputs": [],
   "source": []
  },
  {
   "cell_type": "code",
   "execution_count": null,
   "metadata": {},
   "outputs": [],
   "source": []
  },
  {
   "cell_type": "code",
   "execution_count": null,
   "metadata": {},
   "outputs": [],
   "source": []
  },
  {
   "cell_type": "code",
   "execution_count": null,
   "metadata": {},
   "outputs": [],
   "source": []
  },
  {
   "cell_type": "code",
   "execution_count": null,
   "metadata": {},
   "outputs": [],
   "source": []
  },
  {
   "cell_type": "code",
   "execution_count": null,
   "metadata": {},
   "outputs": [],
   "source": []
  },
  {
   "cell_type": "code",
   "execution_count": null,
   "metadata": {},
   "outputs": [],
   "source": []
  },
  {
   "cell_type": "code",
   "execution_count": null,
   "metadata": {},
   "outputs": [],
   "source": []
  },
  {
   "cell_type": "code",
   "execution_count": null,
   "metadata": {},
   "outputs": [],
   "source": []
  },
  {
   "cell_type": "code",
   "execution_count": null,
   "metadata": {},
   "outputs": [],
   "source": []
  },
  {
   "cell_type": "code",
   "execution_count": null,
   "metadata": {},
   "outputs": [],
   "source": []
  },
  {
   "cell_type": "code",
   "execution_count": null,
   "metadata": {},
   "outputs": [],
   "source": []
  },
  {
   "cell_type": "code",
   "execution_count": null,
   "metadata": {},
   "outputs": [],
   "source": []
  },
  {
   "cell_type": "code",
   "execution_count": null,
   "metadata": {},
   "outputs": [],
   "source": []
  },
  {
   "cell_type": "code",
   "execution_count": null,
   "metadata": {},
   "outputs": [],
   "source": []
  },
  {
   "cell_type": "code",
   "execution_count": null,
   "metadata": {},
   "outputs": [],
   "source": []
  },
  {
   "cell_type": "code",
   "execution_count": null,
   "metadata": {},
   "outputs": [],
   "source": []
  },
  {
   "cell_type": "code",
   "execution_count": null,
   "metadata": {},
   "outputs": [],
   "source": []
  },
  {
   "cell_type": "code",
   "execution_count": null,
   "metadata": {},
   "outputs": [],
   "source": []
  },
  {
   "cell_type": "code",
   "execution_count": null,
   "metadata": {},
   "outputs": [],
   "source": []
  },
  {
   "cell_type": "code",
   "execution_count": null,
   "metadata": {},
   "outputs": [],
   "source": []
  },
  {
   "cell_type": "code",
   "execution_count": null,
   "metadata": {},
   "outputs": [],
   "source": []
  },
  {
   "cell_type": "code",
   "execution_count": null,
   "metadata": {},
   "outputs": [],
   "source": []
  },
  {
   "cell_type": "code",
   "execution_count": null,
   "metadata": {},
   "outputs": [],
   "source": []
  },
  {
   "cell_type": "code",
   "execution_count": null,
   "metadata": {},
   "outputs": [],
   "source": []
  },
  {
   "cell_type": "code",
   "execution_count": null,
   "metadata": {},
   "outputs": [],
   "source": []
  }
 ],
 "metadata": {
  "kernelspec": {
   "display_name": "Python 3",
   "language": "python",
   "name": "python3"
  },
  "language_info": {
   "codemirror_mode": {
    "name": "ipython",
    "version": 3
   },
   "file_extension": ".py",
   "mimetype": "text/x-python",
   "name": "python",
   "nbconvert_exporter": "python",
   "pygments_lexer": "ipython3",
   "version": "3.8.5"
  }
 },
 "nbformat": 4,
 "nbformat_minor": 4
}
